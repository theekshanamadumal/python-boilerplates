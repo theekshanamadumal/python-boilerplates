{
 "cells": [
  {
   "cell_type": "markdown",
   "metadata": {},
   "source": [
    "Setting up langchain for text generation"
   ]
  },
  {
   "cell_type": "code",
   "execution_count": null,
   "metadata": {},
   "outputs": [],
   "source": [
    "notification_details = "
   ]
  },
  {
   "cell_type": "code",
   "execution_count": 9,
   "metadata": {},
   "outputs": [
    {
     "name": "stdout",
     "output_type": "stream",
     "text": [
      "MFG002\n"
     ]
    }
   ],
   "source": [
    "text=\"🔴 URGENT: ALUMINUM SHEET 1MM [MFG002] IS RUNNING OUT OF STOCK, ONLY 180 REMAINING\"\n",
    "#get the item that inside the square brackets\n",
    "item = text.split('[')[1].split(']')[0]\n",
    "print(item)"
   ]
  },
  {
   "cell_type": "code",
   "execution_count": 35,
   "metadata": {},
   "outputs": [
    {
     "name": "stdout",
     "output_type": "stream",
     "text": [
      "1hammaadrizwan1@gmail.com, hammaadrizwan@gmail.com  \n",
      "URGENT: MFG007 is critically low on stock!  \n",
      "Dear John Doe, Jane Smith,  \n",
      "\n",
      "I am writing to inform you that we are facing a critical shortage of Bearing 608ZZ [MFG007], with only 124 units remaining in stock. This situation requires immediate attention to avoid disruptions in our operations and ensure we can meet our customer demands.  \n",
      "\n",
      "The following products will be affected if we do not replenish our stock soon:  \n",
      "- PRO003 Heavy Duty Bearings  \n",
      "- PRO005 High-Torque Gear Set  \n",
      "\n",
      "Please prioritize this matter and take the necessary steps to reorder Bearing 608ZZ as soon as possible.  \n",
      "\n",
      "Best regards,  \n",
      "Inventory Manager\n"
     ]
    },
    {
     "ename": "TypeError",
     "evalue": "isinstance() arg 2 must be a type, a tuple of types, or a union",
     "output_type": "error",
     "traceback": [
      "\u001b[0;31m---------------------------------------------------------------------------\u001b[0m",
      "\u001b[0;31mTypeError\u001b[0m                                 Traceback (most recent call last)",
      "Cell \u001b[0;32mIn[35], line 82\u001b[0m\n\u001b[1;32m     78\u001b[0m         \u001b[38;5;28mprint\u001b[39m(\u001b[38;5;124mf\u001b[39m\u001b[38;5;124m\"\u001b[39m\u001b[38;5;124mError: \u001b[39m\u001b[38;5;132;01m{\u001b[39;00me\u001b[38;5;132;01m}\u001b[39;00m\u001b[38;5;124m\"\u001b[39m)\n\u001b[1;32m     81\u001b[0m \u001b[38;5;66;03m# print(to_address)\u001b[39;00m\n\u001b[0;32m---> 82\u001b[0m \u001b[43msend_email\u001b[49m\u001b[43m(\u001b[49m\u001b[43msubject\u001b[49m\u001b[43m,\u001b[49m\u001b[43m \u001b[49m\u001b[43mto_address\u001b[49m\u001b[43m,\u001b[49m\u001b[43m \u001b[49m\u001b[43mbody\u001b[49m\u001b[43m)\u001b[49m\n",
      "Cell \u001b[0;32mIn[35], line 61\u001b[0m, in \u001b[0;36msend_email\u001b[0;34m(subject, to_address, body)\u001b[0m\n\u001b[1;32m     58\u001b[0m sent_from \u001b[38;5;241m=\u001b[39m gmail_user\n\u001b[1;32m     60\u001b[0m \u001b[38;5;66;03m# Ensure `to_address` is a list\u001b[39;00m\n\u001b[0;32m---> 61\u001b[0m \u001b[38;5;28;01mif\u001b[39;00m \u001b[38;5;28;43misinstance\u001b[39;49m\u001b[43m(\u001b[49m\u001b[43mto_address\u001b[49m\u001b[43m,\u001b[49m\u001b[43m \u001b[49m\u001b[38;5;28;43mstr\u001b[39;49m\u001b[43m)\u001b[49m:\n\u001b[1;32m     62\u001b[0m     to_address \u001b[38;5;241m=\u001b[39m [email\u001b[38;5;241m.\u001b[39mstrip() \u001b[38;5;28;01mfor\u001b[39;00m email \u001b[38;5;129;01min\u001b[39;00m to_address\u001b[38;5;241m.\u001b[39msplit(\u001b[38;5;124m\"\u001b[39m\u001b[38;5;124m,\u001b[39m\u001b[38;5;124m\"\u001b[39m)]\n\u001b[1;32m     64\u001b[0m \u001b[38;5;66;03m# Create MIME email\u001b[39;00m\n",
      "\u001b[0;31mTypeError\u001b[0m: isinstance() arg 2 must be a type, a tuple of types, or a union"
     ]
    }
   ],
   "source": [
    "import smtplib\n",
    "from email.mime.text import MIMEText\n",
    "from email.mime.multipart import MIMEMultipart\n",
    "import re\n",
    "\n",
    "# Sample email content (you will use this as the input)\n",
    "email_content = \"\"\"\n",
    "TO: 1hammaadrizwan1@gmail.com, hammaadrizwan@gmail.com  \n",
    "Subject: URGENT: MFG007 is critically low on stock!  \n",
    "\n",
    "Dear John Doe, Jane Smith,  \n",
    "\n",
    "I am writing to inform you that we are facing a critical shortage of Bearing 608ZZ [MFG007], with only 124 units remaining in stock. This situation requires immediate attention to avoid disruptions in our operations and ensure we can meet our customer demands.  \n",
    "\n",
    "The following products will be affected if we do not replenish our stock soon:  \n",
    "- PRO003 Heavy Duty Bearings  \n",
    "- PRO005 High-Torque Gear Set  \n",
    "\n",
    "Please prioritize this matter and take the necessary steps to reorder Bearing 608ZZ as soon as possible.  \n",
    "\n",
    "Best regards,  \n",
    "Inventory Manager  \n",
    "\"\"\"\n",
    "\n",
    "# Function to extract the required information from the email\n",
    "def extract_email_details(email_content):\n",
    "    # Extract subject\n",
    "    subject_pattern = re.compile(r\"Subject:\\s*(.*)\")\n",
    "    subject_match = subject_pattern.search(email_content)\n",
    "    subject = subject_match.group(1) if subject_match else \"No subject found\"\n",
    "    \n",
    "    # Extract recipient(s)\n",
    "    to_pattern = re.compile(r\"TO:\\s*(.*)\")\n",
    "    to_match = to_pattern.search(email_content)\n",
    "    to_address = to_match.group(1) if to_match else \"No recipient found\"\n",
    "    \n",
    "    # Extract email body (until \"Inventory Manager\")\n",
    "    body_pattern = re.compile(r\"Dear.*?Inventory Manager\", re.DOTALL)\n",
    "    body_match = body_pattern.search(email_content)\n",
    "    body = body_match.group(0).strip() if body_match else \"No body found\"\n",
    "    \n",
    "    return subject, to_address, body\n",
    "\n",
    "# Extract email details\n",
    "subject, to_address, body = extract_email_details(email_content)\n",
    "print(to_address)\n",
    "print(subject)\n",
    "print(body)\n",
    "\n",
    "# Function to send email using smtplib\n",
    "from email.mime.text import MIMEText\n",
    "from email.mime.multipart import MIMEMultipart\n",
    "\n",
    "def send_email(subject, to_address, body):\n",
    "    gmail_user = \"hammaadr@irononetech.com\"\n",
    "    gmail_app_password = \"jhgx hdpm oitn oliq\"\n",
    "\n",
    "    sent_from = gmail_user\n",
    "#     sent_to = to_address\n",
    "    sent_to = [to_address]\n",
    "    # Create MIME email\n",
    "    msg = MIMEMultipart()\n",
    "    msg[\"From\"] = sent_from\n",
    "    msg[\"To\"] = \", \".join(to_address)\n",
    "    msg[\"Subject\"] = subject\n",
    "    msg.attach(MIMEText(body, \"plain\"))\n",
    "    try:\n",
    "        server = smtplib.SMTP_SSL(\"smtp.gmail.com\", 465)\n",
    "        server.login(gmail_user, gmail_app_password)\n",
    "        server.sendmail(sent_from, sent_to, msg.as_string())\n",
    "        server.close()\n",
    "        print(\"Email sent successfully!\")\n",
    "    except Exception as e:\n",
    "        print(f\"Error: {e}\")\n",
    "\n",
    "\n",
    "# print(to_address)\n",
    "send_email(subject, [\"hammaadrizwan@gmail.com\",\"hammaad.20221729@iit,ac,kj\"], body)\n"
   ]
  },
  {
   "cell_type": "code",
   "execution_count": 37,
   "metadata": {},
   "outputs": [
    {
     "name": "stdout",
     "output_type": "stream",
     "text": [
      "16.03.2025_02:30:11\n"
     ]
    }
   ],
   "source": [
    "from datetime import datetime\n",
    "\n",
    "# Get current date and time\n",
    "current_time = datetime.now()\n",
    "\n",
    "# Format as DD/MM/YYYY_HH:MM:SS\n",
    "formatted_time = current_time.strftime(\"%d.%m.%Y_%H:%M:%S\")\n",
    "\n",
    "print(formatted_time)\n"
   ]
  },
  {
   "cell_type": "code",
   "execution_count": 49,
   "metadata": {},
   "outputs": [
    {
     "name": "stdout",
     "output_type": "stream",
     "text": [
      "Simulation complete. Data saved to raw_defect_logs.csv\n"
     ]
    }
   ],
   "source": [
    "import csv\n",
    "import random\n",
    "def run_defect_detection_simulation():\n",
    "    # Read the production_list.csv data\n",
    "    production_list = \"./data/input/production_list.csv\"\n",
    "    output_file = \"raw_defect_logs.csv\"\n",
    "    \n",
    "    with open(production_list, mode='r', newline='') as file:\n",
    "        reader = csv.DictReader(file)\n",
    "        products = [row for row in reader]\n",
    "    \n",
    "    # Define defect classes\n",
    "    defect_classes = ['A', 'B', 'C', 'D']\n",
    "    \n",
    "    # Prepare data for raw_defect_logs\n",
    "    raw_logs = []\n",
    "    for product in products:\n",
    "        date_time = datetime.now().strftime(\"%Y-%m-%d %H:%M:%S\")\n",
    "        product_id = product['product_id']\n",
    "        \n",
    "        # Randomly determine if there is a defect (50% chance of no defect)\n",
    "        has_defect = 'N' if random.random() < 0.4 else 'Y'\n",
    "        \n",
    "        if has_defect == 'N':\n",
    "            class_of_defect = 'N'\n",
    "            probability = round(random.uniform(0.95, 1.0), 2)  # Close to 1\n",
    "        else:\n",
    "            class_of_defect = random.choice(defect_classes)\n",
    "            probability = round(random.uniform(0.3, 1.0), 2)\n",
    "        \n",
    "        high_or_low = 'H' if probability > 0.6 else 'N'\n",
    "        \n",
    "        raw_logs.append([date_time, product_id, has_defect, class_of_defect, probability, high_or_low])\n",
    "    \n",
    "    # Write to raw_defect_logs.csv\n",
    "    with open(output_file, mode='w', newline='') as file:\n",
    "        writer = csv.writer(file)\n",
    "        writer.writerow(['date_time', 'product_id', 'defect', 'class_of_defect', 'probability', 'high_or_low'])\n",
    "        writer.writerows(raw_logs)\n",
    "    \n",
    "    print(f\"Simulation complete. Data saved to {output_file}\")\n",
    "\n",
    "run_defect_detection_simulation()"
   ]
  },
  {
   "cell_type": "code",
   "execution_count": 7,
   "metadata": {},
   "outputs": [
    {
     "name": "stdout",
     "output_type": "stream",
     "text": [
      "defectives only\n"
     ]
    }
   ],
   "source": [
    "state={}\n",
    "# state['low_stock_items'] =[]\n",
    "state[\"defective_items\"] =['A']\n",
    "\n",
    "state['low_stock_items'] =['A','B']\n",
    "\n",
    "if state['low_stock_items'] and not state['defective_items']:\n",
    "    print(\"Low stock items are present\")\n",
    "else:\n",
    "    print(\"defectives only\")"
   ]
  },
  {
   "cell_type": "code",
   "execution_count": 10,
   "metadata": {},
   "outputs": [
    {
     "name": "stdout",
     "output_type": "stream",
     "text": [
      "Items out of stock\n"
     ]
    }
   ],
   "source": [
    "product={}\n",
    "product['item_list'] = 'MFG001, MFG002, MFG003'\n",
    "\n",
    "# List of items to check\n",
    "items_out_of_stock = [\"MFG005\" ]\n",
    "\n",
    "#check if product's item_list contains any of the items_out_of_stock\n",
    "if not any(item in product['item_list'] for item in items_out_of_stock):\n",
    "    print(\"Items out of stock\")\n"
   ]
  },
  {
   "cell_type": "code",
   "execution_count": 12,
   "metadata": {},
   "outputs": [
    {
     "data": {
      "text/plain": [
       "AIMessage(content=\"Subject: Urgent Stock Notification: Immediate Action Required\\n\\nDear [Team/Recipient's Name],\\n\\nI hope this message finds you well. I am writing to bring to your immediate attention a critical stock situation that requires prompt action.\\n\\nWe have experienced a significant depletion of our inventory for the following items:\\n\\n- [Item Name 1] - Current Stock: [Quantity]\\n- [Item Name 2] - Current Stock: [Quantity]\\n- [Item Name 3] - Current Stock: [Quantity]\\n\\nAs of today, our current stock levels are below the minimum threshold necessary to meet ongoing demand. To avoid any disruption in operations and fulfill our customer orders without delay, it is essential that we take immediate steps to replenish these items.\\n\\nPlease prioritize placing orders and liaising with suppliers to expedite the procurement process. Additionally, I recommend reviewing our safety stock levels for other critical items to prevent similar situations in the future.\\n\\nIf you have any further questions or require assistance, do not hesitate to reach out.\\n\\nThank you for your prompt attention to this matter.\\n\\nBest regards,\\n\\n[Your Name]  \\n[Your Position]  \\n[Your Company]  \\n[Your Contact Information]  \", additional_kwargs={'refusal': None}, response_metadata={'token_usage': {'completion_tokens': 235, 'prompt_tokens': 22, 'total_tokens': 257, 'completion_tokens_details': {'accepted_prediction_tokens': 0, 'audio_tokens': 0, 'reasoning_tokens': 0, 'rejected_prediction_tokens': 0}, 'prompt_tokens_details': {'audio_tokens': 0, 'cached_tokens': 0}}, 'model_name': 'gpt-4o-mini-2024-07-18', 'system_fingerprint': 'fp_06737a9306', 'finish_reason': 'stop', 'logprobs': None}, id='run-144e2284-0110-41cc-ae99-19514a509a04-0', usage_metadata={'input_tokens': 22, 'output_tokens': 235, 'total_tokens': 257, 'input_token_details': {'audio': 0, 'cache_read': 0}, 'output_token_details': {'audio': 0, 'reasoning': 0}})"
      ]
     },
     "execution_count": 12,
     "metadata": {},
     "output_type": "execute_result"
    }
   ],
   "source": [
    "from src.utils.llm import get_llm\n",
    "prompt = f\"\"\"\n",
    "You are an inventory manager. Generate an urgent stock notification email.\n",
    "  \n",
    "\"\"\"\n",
    "llm=get_llm()\n",
    "response = llm.invoke(prompt)\n",
    "response"
   ]
  },
  {
   "cell_type": "code",
   "execution_count": 16,
   "metadata": {},
   "outputs": [
    {
     "data": {
      "text/plain": [
       "\"Subject: Urgent Stock Notification: Immediate Action Required\\n\\nDear [Team/Recipient's Name],\\n\\nI hope this message finds you well. I am writing to bring to your immediate attention a critical stock situation that requires prompt action.\\n\\nWe have experienced a significant depletion of our inventory for the following items:\\n\\n- [Item Name 1] - Current Stock: [Quantity]\\n- [Item Name 2] - Current Stock: [Quantity]\\n- [Item Name 3] - Current Stock: [Quantity]\\n\\nAs of today, our current stock levels are below the minimum threshold necessary to meet ongoing demand. To avoid any disruption in operations and fulfill our customer orders without delay, it is essential that we take immediate steps to replenish these items.\\n\\nPlease prioritize placing orders and liaising with suppliers to expedite the procurement process. Additionally, I recommend reviewing our safety stock levels for other critical items to prevent similar situations in the future.\\n\\nIf you have any further questions or require assistance, do not hesitate to reach out.\\n\\nThank you for your prompt attention to this matter.\\n\\nBest regards,\\n\\n[Your Name]  \\n[Your Position]  \\n[Your Company]  \\n[Your Contact Information]  \""
      ]
     },
     "execution_count": 16,
     "metadata": {},
     "output_type": "execute_result"
    }
   ],
   "source": [
    "response.content"
   ]
  },
  {
   "cell_type": "code",
   "execution_count": 25,
   "metadata": {},
   "outputs": [
    {
     "data": {
      "text/html": [
       "<div>\n",
       "<style scoped>\n",
       "    .dataframe tbody tr th:only-of-type {\n",
       "        vertical-align: middle;\n",
       "    }\n",
       "\n",
       "    .dataframe tbody tr th {\n",
       "        vertical-align: top;\n",
       "    }\n",
       "\n",
       "    .dataframe thead th {\n",
       "        text-align: right;\n",
       "    }\n",
       "</style>\n",
       "<table border=\"1\" class=\"dataframe\">\n",
       "  <thead>\n",
       "    <tr style=\"text-align: right;\">\n",
       "      <th></th>\n",
       "      <th>product_id</th>\n",
       "      <th>product_name</th>\n",
       "      <th>probability</th>\n",
       "    </tr>\n",
       "  </thead>\n",
       "  <tbody>\n",
       "    <tr>\n",
       "      <th>0</th>\n",
       "      <td>PRO001</td>\n",
       "      <td>I</td>\n",
       "      <td>0.83</td>\n",
       "    </tr>\n",
       "    <tr>\n",
       "      <th>1</th>\n",
       "      <td>PRO003</td>\n",
       "      <td>SEE</td>\n",
       "      <td>0.96</td>\n",
       "    </tr>\n",
       "    <tr>\n",
       "      <th>2</th>\n",
       "      <td>PRO005</td>\n",
       "      <td>YOU</td>\n",
       "      <td>0.97</td>\n",
       "    </tr>\n",
       "  </tbody>\n",
       "</table>\n",
       "</div>"
      ],
      "text/plain": [
       "  product_id product_name  probability\n",
       "0     PRO001            I         0.83\n",
       "1     PRO003          SEE         0.96\n",
       "2     PRO005          YOU         0.97"
      ]
     },
     "execution_count": 25,
     "metadata": {},
     "output_type": "execute_result"
    }
   ],
   "source": [
    "import pandas as pd\n",
    "df = pd.read_csv(f'./data/output/17.03.2025_00:18:14/raw_defect_logs.csv')\n",
    "high_defects = df[df['high_or_low'] == 'H'][['product_id','product_name', 'probability']]\n",
    "high_defects['product_name'] = high_defects['product_name']\n",
    "high_defects = high_defects[['product_id', 'product_name', 'probability']]\n",
    "high_defects\n"
   ]
  },
  {
   "cell_type": "code",
   "execution_count": 36,
   "metadata": {},
   "outputs": [
    {
     "name": "stdout",
     "output_type": "stream",
     "text": [
      "[['2025-03-17 00:29:52', 'PRO001', 'Titanium Wrench Set', 'N', 'N', 0.99, 'H'], ['2025-03-17 00:29:52', 'PRO002', 'Precision Drill Kit', 'N', 'N', 0.98, 'H'], ['2025-03-17 00:29:52', 'PRO003', 'Heavy Duty Bearings', 'Y', 'A', 1.0, 'H'], ['2025-03-17 00:29:52', 'PRO004', 'Industrial Seal Pack', 'Y', 'A', 0.3, 'N'], ['2025-03-17 00:29:52', 'PRO005', 'High-Torque Gear Set', 'Y', 'C', 0.7, 'H'], ['2025-03-17 00:29:52', 'PRO006', 'Electronic Control Board', 'N', 'N', 0.98, 'H']]\n"
     ]
    }
   ],
   "source": [
    "import csv,random\n",
    "from datetime import datetime\n",
    "with open('./data/input/production_list.csv', mode='r', newline='') as file:\n",
    "     reader = csv.DictReader(file)\n",
    "     products = [row for row in reader]\n",
    "\n",
    "# Define defect classes\n",
    "defect_classes = ['A', 'B', 'C', 'D']\n",
    "\n",
    "# Prepare data for raw_defect_logs\n",
    "raw_logs = []\n",
    "raw_logs_defect_only=[]\n",
    "for product in products:\n",
    "     # print(product)\n",
    "     # # if not any(item in product['items_list'] for item in items_out_of_stock):\n",
    "     current_time = datetime.now()\n",
    "     date_time = current_time.strftime(\"%Y-%m-%d %H:%M:%S\")\n",
    "     product_id = product['product_id']\n",
    "     product_name = product['product_name']\n",
    "     \n",
    "     # Randomly determine if there is a defect (50% chance of no defect)\n",
    "     has_defect = 'N' if random.random() < 0.4 else 'Y'\n",
    "     \n",
    "     if has_defect == 'N':\n",
    "          class_of_defect = 'N'\n",
    "          probability = round(random.uniform(0.95, 1.0), 2)  # Close to 1\n",
    "     else:\n",
    "          class_of_defect = random.choice(defect_classes)\n",
    "          probability = round(random.uniform(0.3, 1.0), 2)\n",
    "     \n",
    "     high_or_low = 'H' if probability > 0.6 else 'N'\n",
    "     \n",
    "     raw_logs.append([date_time, product_id,product_name, has_defect, class_of_defect, probability, high_or_low])\n",
    "print(raw_logs)"
   ]
  },
  {
   "cell_type": "code",
   "execution_count": 40,
   "metadata": {},
   "outputs": [
    {
     "data": {
      "text/plain": [
       "str"
      ]
     },
     "execution_count": 40,
     "metadata": {},
     "output_type": "execute_result"
    }
   ],
   "source": [
    "type(raw_logs[0][0])"
   ]
  },
  {
   "cell_type": "code",
   "execution_count": 41,
   "metadata": {},
   "outputs": [
    {
     "data": {
      "text/html": [
       "<div>\n",
       "<style scoped>\n",
       "    .dataframe tbody tr th:only-of-type {\n",
       "        vertical-align: middle;\n",
       "    }\n",
       "\n",
       "    .dataframe tbody tr th {\n",
       "        vertical-align: top;\n",
       "    }\n",
       "\n",
       "    .dataframe thead th {\n",
       "        text-align: right;\n",
       "    }\n",
       "</style>\n",
       "<table border=\"1\" class=\"dataframe\">\n",
       "  <thead>\n",
       "    <tr style=\"text-align: right;\">\n",
       "      <th></th>\n",
       "      <th>item_id</th>\n",
       "      <th>item_name</th>\n",
       "      <th>available_quantity</th>\n",
       "      <th>total_quantity</th>\n",
       "      <th>threshold</th>\n",
       "      <th>supplier_id</th>\n",
       "    </tr>\n",
       "  </thead>\n",
       "  <tbody>\n",
       "    <tr>\n",
       "      <th>0</th>\n",
       "      <td>MFG001</td>\n",
       "      <td>HDPE Plastic Resin</td>\n",
       "      <td>510</td>\n",
       "      <td>2000</td>\n",
       "      <td>300</td>\n",
       "      <td>SUP001</td>\n",
       "    </tr>\n",
       "    <tr>\n",
       "      <th>1</th>\n",
       "      <td>MFG002</td>\n",
       "      <td>PET Plastic Granules</td>\n",
       "      <td>750</td>\n",
       "      <td>3000</td>\n",
       "      <td>500</td>\n",
       "      <td>SUP002</td>\n",
       "    </tr>\n",
       "    <tr>\n",
       "      <th>2</th>\n",
       "      <td>MFG003</td>\n",
       "      <td>Bottle Caps (Polypropylene)</td>\n",
       "      <td>1200</td>\n",
       "      <td>5000</td>\n",
       "      <td>800</td>\n",
       "      <td>SUP003</td>\n",
       "    </tr>\n",
       "    <tr>\n",
       "      <th>3</th>\n",
       "      <td>MFG004</td>\n",
       "      <td>Plastic Preforms</td>\n",
       "      <td>800</td>\n",
       "      <td>2500</td>\n",
       "      <td>400</td>\n",
       "      <td>SUP001</td>\n",
       "    </tr>\n",
       "    <tr>\n",
       "      <th>4</th>\n",
       "      <td>MFG005</td>\n",
       "      <td>Labeling Film</td>\n",
       "      <td>900</td>\n",
       "      <td>4000</td>\n",
       "      <td>600</td>\n",
       "      <td>SUP004</td>\n",
       "    </tr>\n",
       "  </tbody>\n",
       "</table>\n",
       "</div>"
      ],
      "text/plain": [
       "  item_id                    item_name  available_quantity  total_quantity  \\\n",
       "0  MFG001           HDPE Plastic Resin                 510            2000   \n",
       "1  MFG002         PET Plastic Granules                 750            3000   \n",
       "2  MFG003  Bottle Caps (Polypropylene)                1200            5000   \n",
       "3  MFG004             Plastic Preforms                 800            2500   \n",
       "4  MFG005                Labeling Film                 900            4000   \n",
       "\n",
       "   threshold supplier_id  \n",
       "0        300      SUP001  \n",
       "1        500      SUP002  \n",
       "2        800      SUP003  \n",
       "3        400      SUP001  \n",
       "4        600      SUP004  "
      ]
     },
     "execution_count": 41,
     "metadata": {},
     "output_type": "execute_result"
    }
   ],
   "source": [
    "import pandas as pd\n",
    "pd.read_csv('./data/input/item_quantity.csv')"
   ]
  },
  {
   "cell_type": "code",
   "execution_count": 48,
   "metadata": {},
   "outputs": [],
   "source": [
    "import csv,json\n",
    "def simulate_production():\n",
    "    # Load recipe data\n",
    "    with open('../data/input/recipe.json', 'r') as f:\n",
    "        recipe_data = json.load(f)\n",
    "        item_list = recipe_data['item_list']\n",
    "\n",
    "    # Load item quantities\n",
    "    with open('../data/input/item_quantity.csv', 'r') as f:\n",
    "        reader = csv.DictReader(f)\n",
    "        items = {item['item_id']: item for item in reader}\n",
    "    \n",
    "    # Reduce stock based on recipe\n",
    "    for item in item_list:\n",
    "        item_id = item['item_id']\n",
    "        required_qty = int(item['quantity'])\n",
    "        \n",
    "        if item_id in items:\n",
    "            current_qty = int(items[item_id]['available_quantity'])\n",
    "            if current_qty >= required_qty:\n",
    "                items[item_id]['available_quantity'] = str(current_qty - required_qty)\n",
    "            else:\n",
    "                items[item_id]['available_quantity'] = '0'  # Set to zero if not enough stock\n",
    "    \n",
    "    # Save updated quantities\n",
    "    with open('../data/input/item_quantity.csv', 'w', newline='') as f:\n",
    "        writer = csv.DictWriter(f, fieldnames=items[next(iter(items))].keys())\n",
    "        writer.writeheader()\n",
    "        writer.writerows(items.values())\n",
    "simulate_production()"
   ]
  },
  {
   "cell_type": "code",
   "execution_count": 45,
   "metadata": {},
   "outputs": [
    {
     "data": {
      "text/html": [
       "<div>\n",
       "<style scoped>\n",
       "    .dataframe tbody tr th:only-of-type {\n",
       "        vertical-align: middle;\n",
       "    }\n",
       "\n",
       "    .dataframe tbody tr th {\n",
       "        vertical-align: top;\n",
       "    }\n",
       "\n",
       "    .dataframe thead th {\n",
       "        text-align: right;\n",
       "    }\n",
       "</style>\n",
       "<table border=\"1\" class=\"dataframe\">\n",
       "  <thead>\n",
       "    <tr style=\"text-align: right;\">\n",
       "      <th></th>\n",
       "      <th>item_id</th>\n",
       "      <th>item_name</th>\n",
       "      <th>available_quantity</th>\n",
       "      <th>total_quantity</th>\n",
       "      <th>threshold</th>\n",
       "      <th>supplier_id</th>\n",
       "    </tr>\n",
       "  </thead>\n",
       "  <tbody>\n",
       "    <tr>\n",
       "      <th>0</th>\n",
       "      <td>MFG001</td>\n",
       "      <td>HDPE Plastic Resin</td>\n",
       "      <td>410</td>\n",
       "      <td>2000</td>\n",
       "      <td>300</td>\n",
       "      <td>SUP001</td>\n",
       "    </tr>\n",
       "    <tr>\n",
       "      <th>1</th>\n",
       "      <td>MFG002</td>\n",
       "      <td>PET Plastic Granules</td>\n",
       "      <td>730</td>\n",
       "      <td>3000</td>\n",
       "      <td>500</td>\n",
       "      <td>SUP002</td>\n",
       "    </tr>\n",
       "    <tr>\n",
       "      <th>2</th>\n",
       "      <td>MFG003</td>\n",
       "      <td>Bottle Caps (Polypropylene)</td>\n",
       "      <td>1190</td>\n",
       "      <td>5000</td>\n",
       "      <td>800</td>\n",
       "      <td>SUP003</td>\n",
       "    </tr>\n",
       "    <tr>\n",
       "      <th>3</th>\n",
       "      <td>MFG004</td>\n",
       "      <td>Plastic Preforms</td>\n",
       "      <td>600</td>\n",
       "      <td>2500</td>\n",
       "      <td>400</td>\n",
       "      <td>SUP001</td>\n",
       "    </tr>\n",
       "    <tr>\n",
       "      <th>4</th>\n",
       "      <td>MFG005</td>\n",
       "      <td>Labeling Film</td>\n",
       "      <td>850</td>\n",
       "      <td>4000</td>\n",
       "      <td>600</td>\n",
       "      <td>SUP004</td>\n",
       "    </tr>\n",
       "  </tbody>\n",
       "</table>\n",
       "</div>"
      ],
      "text/plain": [
       "  item_id                    item_name  available_quantity  total_quantity  \\\n",
       "0  MFG001           HDPE Plastic Resin                 410            2000   \n",
       "1  MFG002         PET Plastic Granules                 730            3000   \n",
       "2  MFG003  Bottle Caps (Polypropylene)                1190            5000   \n",
       "3  MFG004             Plastic Preforms                 600            2500   \n",
       "4  MFG005                Labeling Film                 850            4000   \n",
       "\n",
       "   threshold supplier_id  \n",
       "0        300      SUP001  \n",
       "1        500      SUP002  \n",
       "2        800      SUP003  \n",
       "3        400      SUP001  \n",
       "4        600      SUP004  "
      ]
     },
     "execution_count": 45,
     "metadata": {},
     "output_type": "execute_result"
    }
   ],
   "source": [
    "import pandas as pd\n",
    "pd.read_csv('./data/input/item_quantity.csv')"
   ]
  },
  {
   "cell_type": "code",
   "execution_count": 50,
   "metadata": {},
   "outputs": [],
   "source": [
    "message = \"Labeling Film [MFG005] is running out of stock, only 500 remaining\"\n",
    "sent_notifications_low_stock_items = [\"Labeling Film [MFG005]\"]\n",
    "if message.split('[')[1].split(']')[0] in sent_notifications_low_stock_items:\n",
    "            print(\"this message was sent previously under normal notifications\")\n",
    "            # If already in normal notifications, send it to urgent notifications"
   ]
  },
  {
   "cell_type": "code",
   "execution_count": 54,
   "metadata": {},
   "outputs": [
    {
     "name": "stdout",
     "output_type": "stream",
     "text": [
      "This message was sent previously under normal notifications\n"
     ]
    }
   ],
   "source": [
    "message = \"Labeling Film [MFG005] is running out of stock, only 500 remaining\"\n",
    "sent_notifications_low_stock_items = [\n",
    "    \"Labeling Film [MFG005] was low yesterday\",\n",
    "    \"Warning: [MFG003] stock is low\",\n",
    "    \"Low stock alert for [MFG005]\"\n",
    "]\n",
    "\n",
    "# Extract item ID\n",
    "extracted_id = message.split('[')[1].split(']')[0].strip()\n",
    "\n",
    "# Check if any previous notification contains the extracted ID\n",
    "if any(message.split('[')[1].split(']')[0].strip() in notif for notif in sent_notifications_low_stock_items):\n",
    "    print(\"This message was sent previously under normal notifications\")\n",
    "\n"
   ]
  },
  {
   "cell_type": "code",
   "execution_count": 62,
   "metadata": {},
   "outputs": [
    {
     "name": "stdout",
     "output_type": "stream",
     "text": [
      "HDPE Suppliers Ltd.\n",
      "Aluminum Extrusions Inc.\n"
     ]
    }
   ],
   "source": [
    "restock_order = {\"HDPE Suppliers Ltd.\": \n",
    "                 {\"supplier_email\": \"contact@hdpesuppliers.com\", \"items\": [{\"item_name\": \"Plastic Preforms\", \"total_quantity\": 2500}]}\n",
    "                 ,\n",
    "                 \"Aluminum Extrusions Inc.\": \n",
    "                 {\"supplier_email\": \"contact@hdpesuppliers.com\", \"items\": [{\"item_name\": \"Plastic Preforms\", \"total_quantity\": 2500}]}\n",
    "                 }\n",
    "supplier_name = restock_order.keys()\n",
    "for supplier, details in restock_order.items():\n",
    "        supplier_email = details[\"supplier_email\"]\n",
    "        print(supplier)"
   ]
  },
  {
   "cell_type": "code",
   "execution_count": 66,
   "metadata": {},
   "outputs": [
    {
     "name": "stdout",
     "output_type": "stream",
     "text": [
      "('Restock Order Notification Email  ', 'contact@hdpesuppliers.com  ', 'To whom it may concern,  \\n\\nWe are reaching out to address a critical need for restocking our inventory. Due to increased demand, our current stock levels are insufficient, and we must act promptly to ensure uninterrupted operations and meet customer needs.  \\n\\nPlease place an order for the following items:  \\n- Plastic Preforms: 2500  \\n\\nWe appreciate your timely assistance with this order to help maintain our inventory levels.  \\n\\nBest regards,  \\nInventory Manager')\n"
     ]
    }
   ],
   "source": [
    "email = \"\"\"<EMAIL START>  \n",
    "TO: contact@hdpesuppliers.com  \n",
    "Subject: Restock Order Notification Email  \n",
    "\n",
    "To whom it may concern,  \n",
    "\n",
    "We are reaching out to address a critical need for restocking our inventory. Due to increased demand, our current stock levels are insufficient, and we must act promptly to ensure uninterrupted operations and meet customer needs.  \n",
    "\n",
    "Please place an order for the following items:  \n",
    "- Plastic Preforms: 2500  \n",
    "\n",
    "We appreciate your timely assistance with this order to help maintain our inventory levels.  \n",
    "\n",
    "Best regards,  \n",
    "Inventory Manager  \n",
    "<EMAIL FINISH>  \"\"\"\n",
    "\n",
    "email_content =email.split(\"<EMAIL START>\")[1].split(\"<EMAIL FINSH>\")[0]\n",
    "email_content\n",
    "\n",
    "def extract_email_details(email_content):\n",
    "    # Extract subject\n",
    "    subject_pattern = re.compile(r\"Subject:\\s*(.*)\")\n",
    "    subject_match = subject_pattern.search(email_content)\n",
    "    subject = subject_match.group(1) if subject_match else \"No subject found\"\n",
    "    \n",
    "    # Extract recipient(s)\n",
    "    to_pattern = re.compile(r\"TO:\\s*(.*)\")\n",
    "    to_match = to_pattern.search(email_content)\n",
    "    to_address = to_match.group(1) if to_match else \"No recipient found\"\n",
    "    \n",
    "    # Extract email body (until \"Inventory Manager\")\n",
    "    body_pattern = re.compile(r\"To whom it may concern.*?Inventory Manager\", re.DOTALL)\n",
    "    body_match = body_pattern.search(email_content)\n",
    "    body = body_match.group(0).strip() if body_match else \"No body found\"\n",
    "    return subject, to_address, body\n",
    "\n",
    "print(extract_email_details(email_content))"
   ]
  }
 ],
 "metadata": {
  "kernelspec": {
   "display_name": "agents_HM_venv",
   "language": "python",
   "name": "python3"
  },
  "language_info": {
   "codemirror_mode": {
    "name": "ipython",
    "version": 3
   },
   "file_extension": ".py",
   "mimetype": "text/x-python",
   "name": "python",
   "nbconvert_exporter": "python",
   "pygments_lexer": "ipython3",
   "version": "3.11.11"
  }
 },
 "nbformat": 4,
 "nbformat_minor": 2
}
